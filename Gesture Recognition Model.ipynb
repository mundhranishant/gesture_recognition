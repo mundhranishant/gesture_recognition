{
 "cells": [
  {
   "cell_type": "markdown",
   "metadata": {},
   "source": [
    "# Gesture Recognition\n",
    "In this group project, you are going to build a 3D Conv model that will be able to predict the 5 gestures correctly. Please import the following libraries to get started."
   ]
  },
  {
   "cell_type": "code",
   "execution_count": 1,
   "metadata": {},
   "outputs": [],
   "source": [
    "import numpy as np\n",
    "import os\n",
    "import cv2\n",
    "from cv2 import imread, resize\n",
    "import datetime\n",
    "import matplotlib.pyplot as plt\n",
    "import warnings"
   ]
  },
  {
   "cell_type": "code",
   "execution_count": 2,
   "metadata": {},
   "outputs": [],
   "source": [
    "warnings.filterwarnings('ignore')"
   ]
  },
  {
   "cell_type": "markdown",
   "metadata": {},
   "source": [
    "We set the random seed so that the results don't vary drastically."
   ]
  },
  {
   "cell_type": "code",
   "execution_count": 3,
   "metadata": {},
   "outputs": [],
   "source": [
    "np.random.seed(30)\n",
    "import random as rn\n",
    "rn.seed(30)\n",
    "from tensorflow import keras\n",
    "import tensorflow as tf\n",
    "tf.random.set_seed(30)"
   ]
  },
  {
   "cell_type": "code",
   "execution_count": 4,
   "metadata": {},
   "outputs": [
    {
     "data": {
      "text/plain": [
       "[PhysicalDevice(name='/physical_device:GPU:0', device_type='GPU')]"
      ]
     },
     "execution_count": 4,
     "metadata": {},
     "output_type": "execute_result"
    }
   ],
   "source": [
    "tf.config.list_physical_devices('GPU')"
   ]
  },
  {
   "cell_type": "markdown",
   "metadata": {},
   "source": [
    "In this block, you read the folder names for training and validation. You also set the `batch_size` here. Note that you set the batch size in such a way that you are able to use the GPU in full capacity. You keep increasing the batch size until the machine throws an error."
   ]
  },
  {
   "cell_type": "markdown",
   "metadata": {},
   "source": [
    "### Getting details about the dataset"
   ]
  },
  {
   "cell_type": "code",
   "execution_count": 5,
   "metadata": {},
   "outputs": [],
   "source": [
    "train_doc = np.random.permutation(open('/home/dataset/Project_data/train.csv').readlines())\n",
    "val_doc = np.random.permutation(open('/home/dataset/Project_data/val.csv').readlines())\n",
    "batch_size = 5 #experiment with the batch size"
   ]
  },
  {
   "cell_type": "code",
   "execution_count": 6,
   "metadata": {},
   "outputs": [
    {
     "name": "stdout",
     "output_type": "stream",
     "text": [
      "663 5 132 100\n"
     ]
    }
   ],
   "source": [
    "print(len(train_doc) ,batch_size , len(train_doc)//batch_size, len(val_doc))"
   ]
  },
  {
   "cell_type": "markdown",
   "metadata": {
    "tags": []
   },
   "source": [
    "## Generator\n",
    "This is one of the most important part of the code. The overall structure of the generator has been given. In the generator, you are going to preprocess the images as you have images of 2 different dimensions as well as create a batch of video frames. You have to experiment with `img_idx`, `y`,`z` and normalization such that you get high accuracy."
   ]
  },
  {
   "cell_type": "markdown",
   "metadata": {},
   "source": [
    "### Generator"
   ]
  },
  {
   "cell_type": "code",
   "execution_count": 7,
   "metadata": {},
   "outputs": [],
   "source": [
    "#Resizing image function to directly call inside the generator\n",
    "def resize_image(image, y, z, channels):\n",
    "    if (y, z) == (120, 120):\n",
    "        if image.shape[1] == 360:\n",
    "            image = resize(image, (y, z), interpolation=cv2.INTER_LINEAR)\n",
    "        elif image.shape[1] == 160:\n",
    "            image = image[:, 20:140]\n",
    "        return image\n",
    "    elif (y, z) == (160, 160):\n",
    "        if image.shape[1] == 360:\n",
    "            image = resize(image, (y, z), interpolation=cv2.INTER_LINEAR)\n",
    "        elif image.shape[1] == 160:\n",
    "            image = np.concatenate([np.zeros((20, 160, channels)), image[:, :], np.zeros((20, 160, channels))], axis=0)\n",
    "        return image\n",
    "#Generator\n",
    "def generator(source_path, folder_list, batch_size, grayscale=False):\n",
    "    print( 'Source path = ', source_path, '; batch size =', batch_size)\n",
    "    \n",
    "    #creating a list of image numbers to be used for a particular video\n",
    "    img_idx = [0, 1, 3, 5, 7, 9, 10, 12, 15, 17, 19, 20, 23, 25, 26, 27, 28, 29]\n",
    "    channels = 1 if grayscale else 3\n",
    "    \n",
    "    while True:\n",
    "        \n",
    "        t = np.random.permutation(folder_list)\n",
    "        \n",
    "        # calculate the number of batches\n",
    "        if len(folder_list) % batch_size == 0:\n",
    "            num_batches = len(folder_list) // batch_size\n",
    "        else:\n",
    "            num_batches = (len(folder_list) // batch_size) + 1\n",
    "            \n",
    "        x = len(img_idx)\n",
    "        y, z = (160, 160) #image height, image width\n",
    "        \n",
    "        for batch in range(num_batches): # we iterate over the number of batches\n",
    "            num_covered_images = batch*batch_size # images already batched\n",
    "            num_images_left = len(folder_list) - num_covered_images # images left to be batched\n",
    "            # if images left are less than batch size (partial last batch)\n",
    "            # then update batch size\n",
    "            batch_size = num_images_left if (num_images_left < batch_size) else batch_size\n",
    "            # x is the number of images you use for each video, (y,z) is the final size of the input images and 3 is the number of channels RGB\n",
    "            batch_data = np.zeros((batch_size,x,y,z,channels)) \n",
    "            # batch_labels is the one hot representation of the output\n",
    "            batch_labels = np.zeros((batch_size,5)) \n",
    "            for folder in range(batch_size): # iterate over the batch_size\n",
    "                imgs = os.listdir(source_path+'/'+ t[num_covered_images + folder].split(';')[0]) # read all the images in the folder\n",
    "                for idx,item in enumerate(img_idx): #  Iterate iver the frames/images of a folder to read them in\n",
    "                    image = imread(source_path+'/'+ t[num_covered_images + folder].strip().split(';')[0]+'/'+imgs[item])#.astype(np.float32)\n",
    "                    \n",
    "                    #videos have two types of dimensions - either 360x360 or 120x160 (depending on the webcam used to record the videos)\n",
    "                    #crop the images and resize them. Note that the images are of 2 different shape \n",
    "                    #and the conv3D will throw error if the inputs in a batch have different shapes\n",
    "                    image = resize_image(image, y, z, channels)\n",
    "                    assert image.shape == (y, z, 3), print(f'{image.shape} || {(y, z, 3)}') # keep channels 3, not yet converted to grayscale\n",
    "                    \n",
    "                    #normalise and feed in the image\n",
    "                    image = cv2.normalize(image, None, alpha=0, beta=1, norm_type=cv2.NORM_MINMAX, dtype=cv2.CV_32F)\n",
    "                    \n",
    "                    if grayscale:\n",
    "                        image = cv2.cvtColor(image, cv2.COLOR_BGR2GRAY)\n",
    "                        batch_data[folder,idx,:,:,0] = image[:,:]\n",
    "                    else:\n",
    "                        batch_data[folder,idx,:,:,0] = image[:,:,0]\n",
    "                        batch_data[folder,idx,:,:,1] = image[:,:,1]\n",
    "                        batch_data[folder,idx,:,:,2] = image[:,:,2]\n",
    "                    \n",
    "                batch_labels[folder, int(t[num_covered_images + folder].strip().split(';')[2])] = 1\n",
    "            yield batch_data, batch_labels #you yield the batch_data and the batch_labels, remember what does yield do\n",
    "        "
   ]
  },
  {
   "cell_type": "markdown",
   "metadata": {},
   "source": [
    "Note here that a video is represented above in the generator as (number of images, height, width, number of channels). Take this into consideration while creating the model architecture."
   ]
  },
  {
   "cell_type": "code",
   "execution_count": 8,
   "metadata": {},
   "outputs": [
    {
     "name": "stdout",
     "output_type": "stream",
     "text": [
      "# training sequences = 663\n",
      "# validation sequences = 100\n",
      "# epochs = 35\n"
     ]
    }
   ],
   "source": [
    "# Datasets locations\n",
    "train_path = '/home/dataset/Project_data/train'\n",
    "val_path = '/home/dataset/Project_data/val'\n",
    "\n",
    "num_train_sequences = len(train_doc)\n",
    "print('# training sequences =', num_train_sequences)\n",
    "\n",
    "num_val_sequences = len(val_doc)\n",
    "print('# validation sequences =', num_val_sequences)\n",
    "\n",
    "num_epochs = 35 # choose the number of epochs\n",
    "print ('# epochs =', num_epochs)"
   ]
  },
  {
   "cell_type": "code",
   "execution_count": 9,
   "metadata": {
    "scrolled": true
   },
   "outputs": [
    {
     "name": "stdout",
     "output_type": "stream",
     "text": [
      "Source path =  /home/dataset/Project_data/train ; batch size = 5\n"
     ]
    },
    {
     "data": {
      "text/plain": [
       "((5, 18, 160, 160, 3), (5, 5))"
      ]
     },
     "execution_count": 9,
     "metadata": {},
     "output_type": "execute_result"
    }
   ],
   "source": [
    "one_batch = next(generator(train_path, train_doc, batch_size, grayscale=False))\n",
    "one_batch[0].shape, one_batch[1].shape"
   ]
  },
  {
   "cell_type": "markdown",
   "metadata": {},
   "source": [
    "Note here that a video is represented above in the generator as (number of images, height, width, number of channels). Take this into consideration while creating the model architecture."
   ]
  },
  {
   "cell_type": "markdown",
   "metadata": {},
   "source": [
    "## Models\n",
    "Here you make the model using different functionalities that Keras provides. Remember to use `Conv3D` and `MaxPooling3D` and not `Conv2D` and `Maxpooling2D` for a 3D convolution model. You would want to use `TimeDistributed` while building a Conv2D + RNN model. Also remember that the last layer is the softmax. Design the network in such a way that the model is able to give good accuracy on the least number of parameters so that it can fit in the memory of the webcam."
   ]
  },
  {
   "cell_type": "markdown",
   "metadata": {},
   "source": [
    "### Import Statements"
   ]
  },
  {
   "cell_type": "code",
   "execution_count": 10,
   "metadata": {},
   "outputs": [],
   "source": [
    "from keras.models import Sequential, Model\n",
    "from keras.layers import Dense, GRU, LSTM, Flatten, TimeDistributed, BatchNormalization, Activation, Input, Dropout, GlobalAveragePooling2D, GlobalAveragePooling3D\n",
    "from keras.layers.convolutional import Conv2D, Conv3D, MaxPooling2D, MaxPooling3D \n",
    "from keras.callbacks import ModelCheckpoint, ReduceLROnPlateau\n",
    "from keras import optimizers, layers\n",
    "from keras.applications.mobilenet_v2 import MobileNetV2"
   ]
  },
  {
   "cell_type": "markdown",
   "metadata": {},
   "source": [
    "### Model 1:\n",
    "## Conv3D 4 Layers + GlobalAveragePooling3D + Dense (2 Layers)"
   ]
  },
  {
   "cell_type": "code",
   "execution_count": 11,
   "metadata": {},
   "outputs": [
    {
     "name": "stdout",
     "output_type": "stream",
     "text": [
      "Model: \"gesture_recognition_3dcnn\"\n",
      "_________________________________________________________________\n",
      " Layer (type)                Output Shape              Param #   \n",
      "=================================================================\n",
      " input_1 (InputLayer)        [(None, 160, 160, 18, 3)  0         \n",
      "                             ]                                   \n",
      "                                                                 \n",
      " conv3d (Conv3D)             (None, 160, 160, 18, 32)  2624      \n",
      "                                                                 \n",
      " max_pooling3d (MaxPooling3D  (None, 80, 80, 9, 32)    0         \n",
      " )                                                               \n",
      "                                                                 \n",
      " batch_normalization (BatchN  (None, 80, 80, 9, 32)    128       \n",
      " ormalization)                                                   \n",
      "                                                                 \n",
      " conv3d_1 (Conv3D)           (None, 80, 80, 9, 64)     55360     \n",
      "                                                                 \n",
      " max_pooling3d_1 (MaxPooling  (None, 40, 40, 4, 64)    0         \n",
      " 3D)                                                             \n",
      "                                                                 \n",
      " batch_normalization_1 (Batc  (None, 40, 40, 4, 64)    256       \n",
      " hNormalization)                                                 \n",
      "                                                                 \n",
      " conv3d_2 (Conv3D)           (None, 40, 40, 4, 128)    221312    \n",
      "                                                                 \n",
      " max_pooling3d_2 (MaxPooling  (None, 20, 20, 2, 128)   0         \n",
      " 3D)                                                             \n",
      "                                                                 \n",
      " batch_normalization_2 (Batc  (None, 20, 20, 2, 128)   512       \n",
      " hNormalization)                                                 \n",
      "                                                                 \n",
      " conv3d_3 (Conv3D)           (None, 20, 20, 2, 256)    884992    \n",
      "                                                                 \n",
      " max_pooling3d_3 (MaxPooling  (None, 10, 10, 1, 256)   0         \n",
      " 3D)                                                             \n",
      "                                                                 \n",
      " batch_normalization_3 (Batc  (None, 10, 10, 1, 256)   1024      \n",
      " hNormalization)                                                 \n",
      "                                                                 \n",
      " global_average_pooling3d (G  (None, 256)              0         \n",
      " lobalAveragePooling3D)                                          \n",
      "                                                                 \n",
      " flatten (Flatten)           (None, 256)               0         \n",
      "                                                                 \n",
      " dense (Dense)               (None, 512)               131584    \n",
      "                                                                 \n",
      " dropout (Dropout)           (None, 512)               0         \n",
      "                                                                 \n",
      " dense_1 (Dense)             (None, 128)               65664     \n",
      "                                                                 \n",
      " dropout_1 (Dropout)         (None, 128)               0         \n",
      "                                                                 \n",
      " dense_2 (Dense)             (None, 5)                 645       \n",
      "                                                                 \n",
      "=================================================================\n",
      "Total params: 1,364,101\n",
      "Trainable params: 1,363,141\n",
      "Non-trainable params: 960\n",
      "_________________________________________________________________\n"
     ]
    },
    {
     "name": "stderr",
     "output_type": "stream",
     "text": [
      "2024-07-31 13:02:44.602768: W tensorflow/core/common_runtime/gpu/gpu_bfc_allocator.cc:39] Overriding allow_growth setting because the TF_FORCE_GPU_ALLOW_GROWTH environment variable is set. Original config value was 0.\n",
      "2024-07-31 13:02:44.602833: I tensorflow/core/common_runtime/gpu/gpu_device.cc:1525] Created device /job:localhost/replica:0/task:0/device:GPU:0 with 14800 MB memory:  -> device: 0, name: Quadro RTX 5000, pci bus id: 0000:1e:00.0, compute capability: 7.5\n"
     ]
    }
   ],
   "source": [
    "#write your model here\n",
    "def build_model1(width=120, height=120, frames=30, channels=3):\n",
    "    \n",
    "    input_tensor = keras.Input(shape=(width, height, frames, channels))\n",
    "\n",
    "    conv_layer1 = layers.Conv3D(32, kernel_size=(3, 3, 3), activation='relu', padding='same')(input_tensor)\n",
    "    pooling_layer1 = layers.MaxPooling3D(pool_size=(2, 2, 2))(conv_layer1)\n",
    "    norm_layer1 = layers.BatchNormalization()(pooling_layer1)\n",
    "    \n",
    "    conv_layer2 = layers.Conv3D(64, kernel_size=(3, 3, 3), activation='relu', padding='same')(norm_layer1)\n",
    "    pooling_layer2 = layers.MaxPooling3D(pool_size=(2, 2, 2))(conv_layer2)\n",
    "    norm_layer2 = layers.BatchNormalization()(pooling_layer2)\n",
    "\n",
    "    conv_layer3 = layers.Conv3D(128, kernel_size=(3, 3, 3), activation='relu', padding='same')(norm_layer2)\n",
    "    pooling_layer3 = layers.MaxPooling3D(pool_size=(2, 2, 2))(conv_layer3)\n",
    "    norm_layer3 = layers.BatchNormalization()(pooling_layer3)\n",
    "    \n",
    "    conv_layer4 = layers.Conv3D(256, kernel_size=(3, 3, 3), activation='relu', padding='same')(norm_layer3)\n",
    "    pooling_layer4 = layers.MaxPooling3D(pool_size=(2, 2, 2))(conv_layer4)\n",
    "    norm_layer4 = layers.BatchNormalization()(pooling_layer4)\n",
    "\n",
    "    global_avg_pool = layers.GlobalAveragePooling3D()(norm_layer4)\n",
    "    flat_layer = layers.Flatten()(global_avg_pool)\n",
    "    dense_layer1 = layers.Dense(512, activation='relu')(flat_layer)\n",
    "    dropout_layer1 = layers.Dropout(0.3)(dense_layer1)\n",
    "    dense_layer2 = layers.Dense(128, activation='relu')(dropout_layer1)\n",
    "    dropout_layer2 = layers.Dropout(0.3)(dense_layer2)\n",
    "    \n",
    "    output_tensor = layers.Dense(5, activation='softmax')(dropout_layer2)\n",
    "\n",
    "    # Defining the model\n",
    "    model = keras.Model(inputs=input_tensor, outputs=output_tensor, name=\"gesture_recognition_3dcnn\")\n",
    "    return model\n",
    "\n",
    "# Defining the grayscale and frames variables\n",
    "grayscale = False\n",
    "frames = one_batch[0].shape[1]\n",
    "channels = 1 if grayscale else 3\n",
    "\n",
    "# Instantiate the model using the modified function\n",
    "model = build_model1(width=160, height=160, frames=frames, channels=channels)\n",
    "model.summary()"
   ]
  },
  {
   "cell_type": "markdown",
   "metadata": {},
   "source": [
    "### Specifying learning rate and optimizer"
   ]
  },
  {
   "cell_type": "code",
   "execution_count": 12,
   "metadata": {},
   "outputs": [],
   "source": [
    "optimiser = keras.optimizers.Adam(learning_rate=4e-5) #write your optimizer\n",
    "model.compile(optimizer=optimiser, loss='categorical_crossentropy', metrics=['categorical_accuracy'])"
   ]
  },
  {
   "cell_type": "markdown",
   "metadata": {},
   "source": [
    "Let us create the `train_generator` and the `val_generator` which will be used in `.fit_generator`."
   ]
  },
  {
   "cell_type": "code",
   "execution_count": 13,
   "metadata": {},
   "outputs": [],
   "source": [
    "train_generator = generator(train_path, train_doc, batch_size, grayscale=grayscale)\n",
    "val_generator = generator(val_path, val_doc, batch_size, grayscale=grayscale)"
   ]
  },
  {
   "cell_type": "markdown",
   "metadata": {},
   "source": [
    "### Function for Directory creation for storing the .h5 files"
   ]
  },
  {
   "cell_type": "code",
   "execution_count": 14,
   "metadata": {},
   "outputs": [],
   "source": [
    "def setup_callbacks():\n",
    "    #Getting date and time for folder creation\n",
    "    curr_dt_time = datetime.datetime.now()\n",
    "    # Define the model directory within the home directory\n",
    "    model_dir = os.path.expanduser('~/models/')\n",
    "    model_name = os.path.join(model_dir, 'model_init_' + str(curr_dt_time).replace(' ', '').replace(':', '_') + '/')\n",
    "    \n",
    "    # Create the model directory if it doesn't exist\n",
    "    if not os.path.exists(model_name):\n",
    "        os.makedirs(model_name)\n",
    "    \n",
    "    # Define the filepath for saving the model\n",
    "    filepath = os.path.join(model_name, 'model-{epoch:05d}-{loss:.5f}-{categorical_accuracy:.5f}-{val_loss:.5f}-{val_categorical_accuracy:.5f}.h5')\n",
    "\n",
    "    # Define callbacks\n",
    "    checkpoint = ModelCheckpoint(filepath, monitor='val_loss', verbose=1, save_best_only=False, save_weights_only=False, mode='auto', period=1)\n",
    "    early_stop = keras.callbacks.EarlyStopping(monitor='val_loss', mode='min', patience=5)\n",
    "    LR = ReduceLROnPlateau(monitor='val_loss', factor=0.5, patience=3, min_lr=1e-6)\n",
    "    callbacks_list = [checkpoint, early_stop, LR]\n",
    "\n",
    "    return callbacks_list"
   ]
  },
  {
   "cell_type": "markdown",
   "metadata": {},
   "source": [
    "The `steps_per_epoch` and `validation_steps` are used by `fit_generator` to decide the number of next() calls it need to make."
   ]
  },
  {
   "cell_type": "code",
   "execution_count": 15,
   "metadata": {},
   "outputs": [],
   "source": [
    "if (num_train_sequences%batch_size) == 0:\n",
    "    steps_per_epoch = int(num_train_sequences/batch_size)\n",
    "else:\n",
    "    steps_per_epoch = (num_train_sequences//batch_size) + 1\n",
    "\n",
    "if (num_val_sequences%batch_size) == 0:\n",
    "    validation_steps = int(num_val_sequences/batch_size)\n",
    "else:\n",
    "    validation_steps = (num_val_sequences//batch_size) + 1"
   ]
  },
  {
   "cell_type": "markdown",
   "metadata": {},
   "source": [
    "### Model 1: Training"
   ]
  },
  {
   "cell_type": "code",
   "execution_count": 16,
   "metadata": {},
   "outputs": [
    {
     "name": "stdout",
     "output_type": "stream",
     "text": [
      "WARNING:tensorflow:`period` argument is deprecated. Please use `save_freq` to specify the frequency in number of batches seen.\n",
      "Source path =  /home/dataset/Project_data/train ; batch size = 5\n",
      "Epoch 1/35\n"
     ]
    },
    {
     "name": "stderr",
     "output_type": "stream",
     "text": [
      "2024-07-31 13:02:46.900877: I tensorflow/stream_executor/cuda/cuda_dnn.cc:377] Loaded cuDNN version 8302\n"
     ]
    },
    {
     "name": "stdout",
     "output_type": "stream",
     "text": [
      "133/133 [==============================] - ETA: 0s - loss: 1.4143 - categorical_accuracy: 0.3967Source path =  /home/dataset/Project_data/val ; batch size = 5\n",
      "\n",
      "Epoch 00001: saving model to /home/models/model_init_2024-07-3113_02_44.772222/model-00001-1.41435-0.39668-2.28817-0.22000.h5\n",
      "133/133 [==============================] - 108s 787ms/step - loss: 1.4143 - categorical_accuracy: 0.3967 - val_loss: 2.2882 - val_categorical_accuracy: 0.2200 - lr: 4.0000e-05\n",
      "Epoch 2/35\n",
      "133/133 [==============================] - ETA: 0s - loss: 1.3396 - categorical_accuracy: 0.4185\n",
      "Epoch 00002: saving model to /home/models/model_init_2024-07-3113_02_44.772222/model-00002-1.33959-0.41855-3.06552-0.21000.h5\n",
      "133/133 [==============================] - 22s 159ms/step - loss: 1.3396 - categorical_accuracy: 0.4185 - val_loss: 3.0655 - val_categorical_accuracy: 0.2100 - lr: 4.0000e-05\n",
      "Epoch 3/35\n",
      "133/133 [==============================] - ETA: 0s - loss: 1.2613 - categorical_accuracy: 0.4837\n",
      "Epoch 00003: saving model to /home/models/model_init_2024-07-3113_02_44.772222/model-00003-1.26128-0.48371-2.36025-0.20000.h5\n",
      "133/133 [==============================] - 21s 157ms/step - loss: 1.2613 - categorical_accuracy: 0.4837 - val_loss: 2.3602 - val_categorical_accuracy: 0.2000 - lr: 4.0000e-05\n",
      "Epoch 4/35\n",
      "133/133 [==============================] - ETA: 0s - loss: 1.2634 - categorical_accuracy: 0.4712\n",
      "Epoch 00004: saving model to /home/models/model_init_2024-07-3113_02_44.772222/model-00004-1.26343-0.47118-1.59979-0.31000.h5\n",
      "133/133 [==============================] - 21s 158ms/step - loss: 1.2634 - categorical_accuracy: 0.4712 - val_loss: 1.5998 - val_categorical_accuracy: 0.3100 - lr: 4.0000e-05\n",
      "Epoch 5/35\n",
      "133/133 [==============================] - ETA: 0s - loss: 1.1115 - categorical_accuracy: 0.5514\n",
      "Epoch 00005: saving model to /home/models/model_init_2024-07-3113_02_44.772222/model-00005-1.11153-0.55138-1.10410-0.64000.h5\n",
      "133/133 [==============================] - 21s 161ms/step - loss: 1.1115 - categorical_accuracy: 0.5514 - val_loss: 1.1041 - val_categorical_accuracy: 0.6400 - lr: 4.0000e-05\n",
      "Epoch 6/35\n",
      "133/133 [==============================] - ETA: 0s - loss: 1.0830 - categorical_accuracy: 0.6040\n",
      "Epoch 00006: saving model to /home/models/model_init_2024-07-3113_02_44.772222/model-00006-1.08305-0.60401-0.78538-0.72000.h5\n",
      "133/133 [==============================] - 22s 163ms/step - loss: 1.0830 - categorical_accuracy: 0.6040 - val_loss: 0.7854 - val_categorical_accuracy: 0.7200 - lr: 4.0000e-05\n",
      "Epoch 7/35\n",
      "133/133 [==============================] - ETA: 0s - loss: 0.9785 - categorical_accuracy: 0.6541\n",
      "Epoch 00007: saving model to /home/models/model_init_2024-07-3113_02_44.772222/model-00007-0.97853-0.65414-0.67927-0.74000.h5\n",
      "133/133 [==============================] - 21s 159ms/step - loss: 0.9785 - categorical_accuracy: 0.6541 - val_loss: 0.6793 - val_categorical_accuracy: 0.7400 - lr: 4.0000e-05\n",
      "Epoch 8/35\n",
      "133/133 [==============================] - ETA: 0s - loss: 0.9511 - categorical_accuracy: 0.6441\n",
      "Epoch 00008: saving model to /home/models/model_init_2024-07-3113_02_44.772222/model-00008-0.95108-0.64411-0.86880-0.75000.h5\n",
      "133/133 [==============================] - 21s 158ms/step - loss: 0.9511 - categorical_accuracy: 0.6441 - val_loss: 0.8688 - val_categorical_accuracy: 0.7500 - lr: 4.0000e-05\n",
      "Epoch 9/35\n",
      "133/133 [==============================] - ETA: 0s - loss: 0.9205 - categorical_accuracy: 0.6316\n",
      "Epoch 00009: saving model to /home/models/model_init_2024-07-3113_02_44.772222/model-00009-0.92052-0.63158-0.56220-0.82000.h5\n",
      "133/133 [==============================] - 21s 159ms/step - loss: 0.9205 - categorical_accuracy: 0.6316 - val_loss: 0.5622 - val_categorical_accuracy: 0.8200 - lr: 4.0000e-05\n",
      "Epoch 10/35\n",
      "133/133 [==============================] - ETA: 0s - loss: 0.8187 - categorical_accuracy: 0.7093\n",
      "Epoch 00010: saving model to /home/models/model_init_2024-07-3113_02_44.772222/model-00010-0.81869-0.70927-0.65419-0.75000.h5\n",
      "133/133 [==============================] - 21s 158ms/step - loss: 0.8187 - categorical_accuracy: 0.7093 - val_loss: 0.6542 - val_categorical_accuracy: 0.7500 - lr: 4.0000e-05\n",
      "Epoch 11/35\n",
      "133/133 [==============================] - ETA: 0s - loss: 0.7750 - categorical_accuracy: 0.7393\n",
      "Epoch 00011: saving model to /home/models/model_init_2024-07-3113_02_44.772222/model-00011-0.77504-0.73935-0.46596-0.88000.h5\n",
      "133/133 [==============================] - 20s 154ms/step - loss: 0.7750 - categorical_accuracy: 0.7393 - val_loss: 0.4660 - val_categorical_accuracy: 0.8800 - lr: 4.0000e-05\n",
      "Epoch 12/35\n",
      "133/133 [==============================] - ETA: 0s - loss: 0.6472 - categorical_accuracy: 0.7895\n",
      "Epoch 00012: saving model to /home/models/model_init_2024-07-3113_02_44.772222/model-00012-0.64718-0.78947-0.54105-0.76000.h5\n",
      "133/133 [==============================] - 21s 159ms/step - loss: 0.6472 - categorical_accuracy: 0.7895 - val_loss: 0.5411 - val_categorical_accuracy: 0.7600 - lr: 4.0000e-05\n",
      "Epoch 13/35\n",
      "133/133 [==============================] - ETA: 0s - loss: 0.7289 - categorical_accuracy: 0.7243\n",
      "Epoch 00013: saving model to /home/models/model_init_2024-07-3113_02_44.772222/model-00013-0.72895-0.72431-0.53975-0.80000.h5\n",
      "133/133 [==============================] - 21s 157ms/step - loss: 0.7289 - categorical_accuracy: 0.7243 - val_loss: 0.5398 - val_categorical_accuracy: 0.8000 - lr: 4.0000e-05\n",
      "Epoch 14/35\n",
      "133/133 [==============================] - ETA: 0s - loss: 0.6566 - categorical_accuracy: 0.7519\n",
      "Epoch 00014: saving model to /home/models/model_init_2024-07-3113_02_44.772222/model-00014-0.65657-0.75188-0.43892-0.82000.h5\n",
      "133/133 [==============================] - 19s 143ms/step - loss: 0.6566 - categorical_accuracy: 0.7519 - val_loss: 0.4389 - val_categorical_accuracy: 0.8200 - lr: 4.0000e-05\n",
      "Epoch 15/35\n",
      "133/133 [==============================] - ETA: 0s - loss: 0.6313 - categorical_accuracy: 0.7669\n",
      "Epoch 00015: saving model to /home/models/model_init_2024-07-3113_02_44.772222/model-00015-0.63132-0.76692-0.54964-0.87000.h5\n",
      "133/133 [==============================] - 21s 157ms/step - loss: 0.6313 - categorical_accuracy: 0.7669 - val_loss: 0.5496 - val_categorical_accuracy: 0.8700 - lr: 4.0000e-05\n",
      "Epoch 16/35\n",
      "133/133 [==============================] - ETA: 0s - loss: 0.6481 - categorical_accuracy: 0.7419\n",
      "Epoch 00016: saving model to /home/models/model_init_2024-07-3113_02_44.772222/model-00016-0.64813-0.74185-0.30976-0.91000.h5\n",
      "133/133 [==============================] - 21s 156ms/step - loss: 0.6481 - categorical_accuracy: 0.7419 - val_loss: 0.3098 - val_categorical_accuracy: 0.9100 - lr: 4.0000e-05\n",
      "Epoch 17/35\n",
      "133/133 [==============================] - ETA: 0s - loss: 0.6217 - categorical_accuracy: 0.7719\n",
      "Epoch 00017: saving model to /home/models/model_init_2024-07-3113_02_44.772222/model-00017-0.62166-0.77193-0.54519-0.79000.h5\n",
      "133/133 [==============================] - 20s 152ms/step - loss: 0.6217 - categorical_accuracy: 0.7719 - val_loss: 0.5452 - val_categorical_accuracy: 0.7900 - lr: 4.0000e-05\n",
      "Epoch 18/35\n",
      "133/133 [==============================] - ETA: 0s - loss: 0.5519 - categorical_accuracy: 0.7895\n",
      "Epoch 00018: saving model to /home/models/model_init_2024-07-3113_02_44.772222/model-00018-0.55192-0.78947-0.44917-0.82000.h5\n",
      "133/133 [==============================] - 21s 161ms/step - loss: 0.5519 - categorical_accuracy: 0.7895 - val_loss: 0.4492 - val_categorical_accuracy: 0.8200 - lr: 4.0000e-05\n",
      "Epoch 19/35\n",
      "133/133 [==============================] - ETA: 0s - loss: 0.6276 - categorical_accuracy: 0.7719\n",
      "Epoch 00019: saving model to /home/models/model_init_2024-07-3113_02_44.772222/model-00019-0.62756-0.77193-0.36837-0.88000.h5\n",
      "133/133 [==============================] - 21s 160ms/step - loss: 0.6276 - categorical_accuracy: 0.7719 - val_loss: 0.3684 - val_categorical_accuracy: 0.8800 - lr: 4.0000e-05\n",
      "Epoch 20/35\n",
      "133/133 [==============================] - ETA: 0s - loss: 0.5926 - categorical_accuracy: 0.7845\n",
      "Epoch 00020: saving model to /home/models/model_init_2024-07-3113_02_44.772222/model-00020-0.59257-0.78446-0.26491-0.89000.h5\n",
      "133/133 [==============================] - 21s 159ms/step - loss: 0.5926 - categorical_accuracy: 0.7845 - val_loss: 0.2649 - val_categorical_accuracy: 0.8900 - lr: 2.0000e-05\n",
      "Epoch 21/35\n",
      "133/133 [==============================] - ETA: 0s - loss: 0.6295 - categorical_accuracy: 0.7519\n",
      "Epoch 00021: saving model to /home/models/model_init_2024-07-3113_02_44.772222/model-00021-0.62951-0.75188-0.28002-0.89000.h5\n",
      "133/133 [==============================] - 21s 162ms/step - loss: 0.6295 - categorical_accuracy: 0.7519 - val_loss: 0.2800 - val_categorical_accuracy: 0.8900 - lr: 2.0000e-05\n",
      "Epoch 22/35\n",
      "133/133 [==============================] - ETA: 0s - loss: 0.4843 - categorical_accuracy: 0.8371\n",
      "Epoch 00022: saving model to /home/models/model_init_2024-07-3113_02_44.772222/model-00022-0.48427-0.83709-0.29887-0.89000.h5\n",
      "133/133 [==============================] - 21s 157ms/step - loss: 0.4843 - categorical_accuracy: 0.8371 - val_loss: 0.2989 - val_categorical_accuracy: 0.8900 - lr: 2.0000e-05\n",
      "Epoch 23/35\n",
      "133/133 [==============================] - ETA: 0s - loss: 0.5189 - categorical_accuracy: 0.7995\n",
      "Epoch 00023: saving model to /home/models/model_init_2024-07-3113_02_44.772222/model-00023-0.51886-0.79950-0.40819-0.81000.h5\n",
      "133/133 [==============================] - 21s 159ms/step - loss: 0.5189 - categorical_accuracy: 0.7995 - val_loss: 0.4082 - val_categorical_accuracy: 0.8100 - lr: 2.0000e-05\n",
      "Epoch 24/35\n",
      "133/133 [==============================] - ETA: 0s - loss: 0.4599 - categorical_accuracy: 0.8446\n",
      "Epoch 00024: saving model to /home/models/model_init_2024-07-3113_02_44.772222/model-00024-0.45985-0.84461-0.24511-0.90000.h5\n",
      "133/133 [==============================] - 21s 159ms/step - loss: 0.4599 - categorical_accuracy: 0.8446 - val_loss: 0.2451 - val_categorical_accuracy: 0.9000 - lr: 1.0000e-05\n",
      "Epoch 25/35\n",
      "133/133 [==============================] - ETA: 0s - loss: 0.4545 - categorical_accuracy: 0.8446\n",
      "Epoch 00025: saving model to /home/models/model_init_2024-07-3113_02_44.772222/model-00025-0.45447-0.84461-0.24148-0.93000.h5\n",
      "133/133 [==============================] - 20s 152ms/step - loss: 0.4545 - categorical_accuracy: 0.8446 - val_loss: 0.2415 - val_categorical_accuracy: 0.9300 - lr: 1.0000e-05\n",
      "Epoch 26/35\n",
      "133/133 [==============================] - ETA: 0s - loss: 0.4300 - categorical_accuracy: 0.8596\n",
      "Epoch 00026: saving model to /home/models/model_init_2024-07-3113_02_44.772222/model-00026-0.42995-0.85965-0.19788-0.94000.h5\n",
      "133/133 [==============================] - 21s 158ms/step - loss: 0.4300 - categorical_accuracy: 0.8596 - val_loss: 0.1979 - val_categorical_accuracy: 0.9400 - lr: 1.0000e-05\n",
      "Epoch 27/35\n",
      "133/133 [==============================] - ETA: 0s - loss: 0.4581 - categorical_accuracy: 0.8421\n",
      "Epoch 00027: saving model to /home/models/model_init_2024-07-3113_02_44.772222/model-00027-0.45808-0.84211-0.15761-0.94000.h5\n",
      "133/133 [==============================] - 21s 157ms/step - loss: 0.4581 - categorical_accuracy: 0.8421 - val_loss: 0.1576 - val_categorical_accuracy: 0.9400 - lr: 1.0000e-05\n",
      "Epoch 28/35\n",
      "133/133 [==============================] - ETA: 0s - loss: 0.3807 - categorical_accuracy: 0.8797\n",
      "Epoch 00028: saving model to /home/models/model_init_2024-07-3113_02_44.772222/model-00028-0.38065-0.87970-0.21812-0.94000.h5\n",
      "133/133 [==============================] - 20s 151ms/step - loss: 0.3807 - categorical_accuracy: 0.8797 - val_loss: 0.2181 - val_categorical_accuracy: 0.9400 - lr: 1.0000e-05\n",
      "Epoch 29/35\n",
      "133/133 [==============================] - ETA: 0s - loss: 0.4172 - categorical_accuracy: 0.8546\n",
      "Epoch 00029: saving model to /home/models/model_init_2024-07-3113_02_44.772222/model-00029-0.41721-0.85464-0.23861-0.92000.h5\n",
      "133/133 [==============================] - 22s 166ms/step - loss: 0.4172 - categorical_accuracy: 0.8546 - val_loss: 0.2386 - val_categorical_accuracy: 0.9200 - lr: 1.0000e-05\n",
      "Epoch 30/35\n",
      "133/133 [==============================] - ETA: 0s - loss: 0.3814 - categorical_accuracy: 0.8772\n",
      "Epoch 00030: saving model to /home/models/model_init_2024-07-3113_02_44.772222/model-00030-0.38143-0.87719-0.17348-0.91000.h5\n",
      "133/133 [==============================] - 20s 155ms/step - loss: 0.3814 - categorical_accuracy: 0.8772 - val_loss: 0.1735 - val_categorical_accuracy: 0.9100 - lr: 1.0000e-05\n",
      "Epoch 31/35\n",
      "133/133 [==============================] - ETA: 0s - loss: 0.4172 - categorical_accuracy: 0.8647\n",
      "Epoch 00031: saving model to /home/models/model_init_2024-07-3113_02_44.772222/model-00031-0.41715-0.86466-0.15559-0.95000.h5\n",
      "133/133 [==============================] - 21s 161ms/step - loss: 0.4172 - categorical_accuracy: 0.8647 - val_loss: 0.1556 - val_categorical_accuracy: 0.9500 - lr: 5.0000e-06\n",
      "Epoch 32/35\n",
      "133/133 [==============================] - ETA: 0s - loss: 0.4489 - categorical_accuracy: 0.8346\n",
      "Epoch 00032: saving model to /home/models/model_init_2024-07-3113_02_44.772222/model-00032-0.44890-0.83459-0.25147-0.93000.h5\n",
      "133/133 [==============================] - 22s 165ms/step - loss: 0.4489 - categorical_accuracy: 0.8346 - val_loss: 0.2515 - val_categorical_accuracy: 0.9300 - lr: 5.0000e-06\n",
      "Epoch 33/35\n",
      "133/133 [==============================] - ETA: 0s - loss: 0.3445 - categorical_accuracy: 0.8972\n",
      "Epoch 00033: saving model to /home/models/model_init_2024-07-3113_02_44.772222/model-00033-0.34450-0.89724-0.18310-0.95000.h5\n",
      "133/133 [==============================] - 20s 155ms/step - loss: 0.3445 - categorical_accuracy: 0.8972 - val_loss: 0.1831 - val_categorical_accuracy: 0.9500 - lr: 5.0000e-06\n",
      "Epoch 34/35\n",
      "133/133 [==============================] - ETA: 0s - loss: 0.4342 - categorical_accuracy: 0.8496\n",
      "Epoch 00034: saving model to /home/models/model_init_2024-07-3113_02_44.772222/model-00034-0.43416-0.84962-0.16011-0.95000.h5\n",
      "133/133 [==============================] - 21s 162ms/step - loss: 0.4342 - categorical_accuracy: 0.8496 - val_loss: 0.1601 - val_categorical_accuracy: 0.9500 - lr: 5.0000e-06\n",
      "Epoch 35/35\n",
      "133/133 [==============================] - ETA: 0s - loss: 0.3462 - categorical_accuracy: 0.8546\n",
      "Epoch 00035: saving model to /home/models/model_init_2024-07-3113_02_44.772222/model-00035-0.34617-0.85464-0.22270-0.95000.h5\n",
      "133/133 [==============================] - 21s 159ms/step - loss: 0.3462 - categorical_accuracy: 0.8546 - val_loss: 0.2227 - val_categorical_accuracy: 0.9500 - lr: 2.5000e-06\n"
     ]
    }
   ],
   "source": [
    "callbacks = setup_callbacks()\n",
    "history = model.fit_generator(train_generator, steps_per_epoch=steps_per_epoch, epochs=num_epochs, verbose=1, \n",
    "                    callbacks=callbacks, validation_data=val_generator, \n",
    "                    validation_steps=validation_steps, class_weight=None, workers=1, initial_epoch=0)"
   ]
  },
  {
   "cell_type": "markdown",
   "metadata": {},
   "source": [
    "### Model 1: Graphical Analysis"
   ]
  },
  {
   "cell_type": "code",
   "execution_count": 17,
   "metadata": {},
   "outputs": [
    {
     "data": {
      "image/png": "[encoded data removed]",
      "text/plain": [
       "<Figure size 1080x432 with 2 Axes>"
      ]
     },
     "metadata": {
      "needs_background": "light"
     },
     "output_type": "display_data"
    }
   ],
   "source": [
    "acc = history.history['categorical_accuracy']\n",
    "val_acc = history.history['val_categorical_accuracy']\n",
    "\n",
    "loss = history.history['loss']\n",
    "val_loss = history.history['val_loss']\n",
    "\n",
    "epochs_range = range(len(history.history['loss']))\n",
    "\n",
    "plt.figure(figsize=(15, 6))\n",
    "plt.subplot(1, 2, 1)\n",
    "plt.plot(epochs_range, acc, label='Training Accuracy')\n",
    "plt.plot(epochs_range, val_acc, label='Validation Accuracy')\n",
    "plt.legend(loc='lower right')\n",
    "plt.title('Training and Validation Accuracy')\n",
    "\n",
    "plt.subplot(1, 2, 2)\n",
    "plt.plot(epochs_range, loss, label='Training Loss')\n",
    "plt.plot(epochs_range, val_loss, label='Validation Loss')\n",
    "plt.legend(loc='upper right')\n",
    "plt.title('Training and Validation Loss')\n",
    "plt.show()"
   ]
  },
  {
   "cell_type": "markdown",
   "metadata": {},
   "source": [
    "### Model 1: Final Results"
   ]
  },
  {
   "cell_type": "code",
   "execution_count": 18,
   "metadata": {},
   "outputs": [
    {
     "name": "stdout",
     "output_type": "stream",
     "text": [
      "Final Training Accuracy: 85.46%\n",
      "Final Validation Accuracy: 95.00%\n"
     ]
    }
   ],
   "source": [
    "# Display the final training and validation accuracy in percentages\n",
    "final_train_accuracy = acc[-1] * 100\n",
    "final_val_accuracy = val_acc[-1] * 100\n",
    "\n",
    "print(f\"Final Training Accuracy: {final_train_accuracy:.2f}%\")\n",
    "print(f\"Final Validation Accuracy: {final_val_accuracy:.2f}%\")"
   ]
  },
  {
   "cell_type": "markdown",
   "metadata": {},
   "source": [
    "### Model 2:\n",
    "## TimeDistributed Conv2D 3 Layers + GRU + Dense (2 Layers)"
   ]
  },
  {
   "cell_type": "code",
   "execution_count": 19,
   "metadata": {},
   "outputs": [
    {
     "name": "stdout",
     "output_type": "stream",
     "text": [
      "Model: \"Time_Dist_Conv2D\"\n",
      "_________________________________________________________________\n",
      " Layer (type)                Output Shape              Param #   \n",
      "=================================================================\n",
      " input_2 (InputLayer)        [(None, 18, 160, 160, 3)  0         \n",
      "                             ]                                   \n",
      "                                                                 \n",
      " time_distributed (TimeDistr  (None, 18, 160, 160, 32)  896      \n",
      " ibuted)                                                         \n",
      "                                                                 \n",
      " time_distributed_1 (TimeDis  (None, 18, 80, 80, 32)   0         \n",
      " tributed)                                                       \n",
      "                                                                 \n",
      " time_distributed_2 (TimeDis  (None, 18, 80, 80, 32)   128       \n",
      " tributed)                                                       \n",
      "                                                                 \n",
      " time_distributed_3 (TimeDis  (None, 18, 80, 80, 64)   18496     \n",
      " tributed)                                                       \n",
      "                                                                 \n",
      " time_distributed_4 (TimeDis  (None, 18, 40, 40, 64)   0         \n",
      " tributed)                                                       \n",
      "                                                                 \n",
      " time_distributed_5 (TimeDis  (None, 18, 40, 40, 64)   256       \n",
      " tributed)                                                       \n",
      "                                                                 \n",
      " time_distributed_6 (TimeDis  (None, 18, 40, 40, 128)  73856     \n",
      " tributed)                                                       \n",
      "                                                                 \n",
      " time_distributed_7 (TimeDis  (None, 18, 20, 20, 128)  0         \n",
      " tributed)                                                       \n",
      "                                                                 \n",
      " time_distributed_8 (TimeDis  (None, 18, 20, 20, 128)  512       \n",
      " tributed)                                                       \n",
      "                                                                 \n",
      " time_distributed_9 (TimeDis  (None, 18, 51200)        0         \n",
      " tributed)                                                       \n",
      "                                                                 \n",
      " gru (GRU)                   (None, 128)               19710720  \n",
      "                                                                 \n",
      " dense_3 (Dense)             (None, 512)               66048     \n",
      "                                                                 \n",
      " dropout_2 (Dropout)         (None, 512)               0         \n",
      "                                                                 \n",
      " dense_4 (Dense)             (None, 128)               65664     \n",
      "                                                                 \n",
      " dropout_3 (Dropout)         (None, 128)               0         \n",
      "                                                                 \n",
      " dense_5 (Dense)             (None, 5)                 645       \n",
      "                                                                 \n",
      "=================================================================\n",
      "Total params: 19,937,221\n",
      "Trainable params: 19,936,773\n",
      "Non-trainable params: 448\n",
      "_________________________________________________________________\n"
     ]
    }
   ],
   "source": [
    "#write your model here\n",
    "def build_model2(width=120, height=120, frames=30, channels=3):\n",
    "    \"\"\"Building a TimeDistributed Conv2D and RNN model.\"\"\"\n",
    "    \n",
    "    input_layer = Input((frames, width, height, channels))\n",
    "\n",
    "    conv1 = TimeDistributed(Conv2D(filters=32, kernel_size=3, strides=1, padding='same', activation=\"relu\"))(input_layer)\n",
    "    pool1 = TimeDistributed(MaxPooling2D(pool_size=2))(conv1)\n",
    "    norm1 = TimeDistributed(BatchNormalization())(pool1)\n",
    "\n",
    "    conv2 = TimeDistributed(Conv2D(filters=64, kernel_size=3, strides=1, padding='same', activation=\"relu\"))(norm1)\n",
    "    pool2 = TimeDistributed(MaxPooling2D(pool_size=2))(conv2)\n",
    "    norm2 = TimeDistributed(BatchNormalization())(pool2)\n",
    "\n",
    "    conv3 = TimeDistributed(Conv2D(filters=128, kernel_size=3, strides=1, padding='same', activation=\"relu\"))(norm2)\n",
    "    pool3 = TimeDistributed(MaxPooling2D(pool_size=2))(conv3)\n",
    "    norm3 = TimeDistributed(BatchNormalization())(pool3)\n",
    "\n",
    "    time_dist_flatten = TimeDistributed(Flatten())(norm3)\n",
    "    \n",
    "    gru_layer = GRU(units=128)(time_dist_flatten)\n",
    "    \n",
    "    dense1 = Dense(units=512, activation=\"relu\")(gru_layer)\n",
    "    drop1 = Dropout(0.4)(dense1)\n",
    "    dense2 = Dense(units=128, activation=\"relu\")(drop1)\n",
    "    drop2 = Dropout(0.4)(dense2)\n",
    "    \n",
    "    output_layer = Dense(units=5, activation=\"softmax\")(drop2)\n",
    "\n",
    "    # Define the model\n",
    "    model = keras.Model(input_layer, output_layer, name=\"Time_Dist_Conv2D\")\n",
    "    return model\n",
    "\n",
    "# Define the grayscale and frames variables\n",
    "grayscale = False\n",
    "frames = one_batch[0].shape[1]\n",
    "channels = 1 if grayscale else 3\n",
    "\n",
    "# Instantiate the model using the modified function\n",
    "model = build_model2(width=160, height=160, frames=frames, channels=channels)\n",
    "model.summary()"
   ]
  },
  {
   "cell_type": "markdown",
   "metadata": {},
   "source": [
    "### Optimizer Function"
   ]
  },
  {
   "cell_type": "code",
   "execution_count": 20,
   "metadata": {},
   "outputs": [],
   "source": [
    "optimiser = keras.optimizers.Adam(learning_rate=4e-5) #write your optimizer\n",
    "model.compile(optimizer=optimiser, loss='categorical_crossentropy', metrics=['categorical_accuracy'])"
   ]
  },
  {
   "cell_type": "markdown",
   "metadata": {},
   "source": [
    "### Model 2: Training"
   ]
  },
  {
   "cell_type": "code",
   "execution_count": 21,
   "metadata": {},
   "outputs": [
    {
     "name": "stdout",
     "output_type": "stream",
     "text": [
      "WARNING:tensorflow:`period` argument is deprecated. Please use `save_freq` to specify the frequency in number of batches seen.\n",
      "Epoch 1/35\n",
      "133/133 [==============================] - ETA: 0s - loss: 1.6362 - categorical_accuracy: 0.2657\n",
      "Epoch 00001: saving model to /home/models/model_init_2024-07-3113_16_24.444621/model-00001-1.63620-0.26566-1.83625-0.17000.h5\n",
      "133/133 [==============================] - 24s 160ms/step - loss: 1.6362 - categorical_accuracy: 0.2657 - val_loss: 1.8362 - val_categorical_accuracy: 0.1700 - lr: 4.0000e-05\n",
      "Epoch 2/35\n",
      "133/133 [==============================] - ETA: 0s - loss: 1.4584 - categorical_accuracy: 0.3634\n",
      "Epoch 00002: saving model to /home/models/model_init_2024-07-3113_16_24.444621/model-00002-1.45837-0.36341-1.76549-0.22000.h5\n",
      "133/133 [==============================] - 21s 155ms/step - loss: 1.4584 - categorical_accuracy: 0.3634 - val_loss: 1.7655 - val_categorical_accuracy: 0.2200 - lr: 4.0000e-05\n",
      "Epoch 3/35\n",
      "133/133 [==============================] - ETA: 0s - loss: 1.2605 - categorical_accuracy: 0.4937\n",
      "Epoch 00003: saving model to /home/models/model_init_2024-07-3113_16_24.444621/model-00003-1.26049-0.49373-1.88756-0.21000.h5\n",
      "133/133 [==============================] - 20s 151ms/step - loss: 1.2605 - categorical_accuracy: 0.4937 - val_loss: 1.8876 - val_categorical_accuracy: 0.2100 - lr: 4.0000e-05\n",
      "Epoch 4/35\n",
      "133/133 [==============================] - ETA: 0s - loss: 1.1649 - categorical_accuracy: 0.5238\n",
      "Epoch 00004: saving model to /home/models/model_init_2024-07-3113_16_24.444621/model-00004-1.16493-0.52381-1.44547-0.45000.h5\n",
      "133/133 [==============================] - 19s 145ms/step - loss: 1.1649 - categorical_accuracy: 0.5238 - val_loss: 1.4455 - val_categorical_accuracy: 0.4500 - lr: 4.0000e-05\n",
      "Epoch 5/35\n",
      "133/133 [==============================] - ETA: 0s - loss: 1.0056 - categorical_accuracy: 0.6391\n",
      "Epoch 00005: saving model to /home/models/model_init_2024-07-3113_16_24.444621/model-00005-1.00561-0.63910-1.07357-0.66000.h5\n",
      "133/133 [==============================] - 19s 147ms/step - loss: 1.0056 - categorical_accuracy: 0.6391 - val_loss: 1.0736 - val_categorical_accuracy: 0.6600 - lr: 4.0000e-05\n",
      "Epoch 6/35\n",
      "133/133 [==============================] - ETA: 0s - loss: 0.9363 - categorical_accuracy: 0.6516\n",
      "Epoch 00006: saving model to /home/models/model_init_2024-07-3113_16_24.444621/model-00006-0.93632-0.65163-0.96268-0.68000.h5\n",
      "133/133 [==============================] - 19s 143ms/step - loss: 0.9363 - categorical_accuracy: 0.6516 - val_loss: 0.9627 - val_categorical_accuracy: 0.6800 - lr: 4.0000e-05\n",
      "Epoch 7/35\n",
      "133/133 [==============================] - ETA: 0s - loss: 0.7492 - categorical_accuracy: 0.7469\n",
      "Epoch 00007: saving model to /home/models/model_init_2024-07-3113_16_24.444621/model-00007-0.74924-0.74687-0.90839-0.70000.h5\n",
      "133/133 [==============================] - 20s 149ms/step - loss: 0.7492 - categorical_accuracy: 0.7469 - val_loss: 0.9084 - val_categorical_accuracy: 0.7000 - lr: 4.0000e-05\n",
      "Epoch 8/35\n",
      "133/133 [==============================] - ETA: 0s - loss: 0.6802 - categorical_accuracy: 0.7719\n",
      "Epoch 00008: saving model to /home/models/model_init_2024-07-3113_16_24.444621/model-00008-0.68017-0.77193-0.80872-0.64000.h5\n",
      "133/133 [==============================] - 20s 148ms/step - loss: 0.6802 - categorical_accuracy: 0.7719 - val_loss: 0.8087 - val_categorical_accuracy: 0.6400 - lr: 4.0000e-05\n",
      "Epoch 9/35\n",
      "133/133 [==============================] - ETA: 0s - loss: 0.6029 - categorical_accuracy: 0.8020\n",
      "Epoch 00009: saving model to /home/models/model_init_2024-07-3113_16_24.444621/model-00009-0.60290-0.80200-0.89565-0.66000.h5\n",
      "133/133 [==============================] - 20s 150ms/step - loss: 0.6029 - categorical_accuracy: 0.8020 - val_loss: 0.8957 - val_categorical_accuracy: 0.6600 - lr: 4.0000e-05\n",
      "Epoch 10/35\n",
      "133/133 [==============================] - ETA: 0s - loss: 0.4820 - categorical_accuracy: 0.8521\n",
      "Epoch 00010: saving model to /home/models/model_init_2024-07-3113_16_24.444621/model-00010-0.48198-0.85213-0.66639-0.78000.h5\n",
      "133/133 [==============================] - 21s 157ms/step - loss: 0.4820 - categorical_accuracy: 0.8521 - val_loss: 0.6664 - val_categorical_accuracy: 0.7800 - lr: 4.0000e-05\n",
      "Epoch 11/35\n",
      "133/133 [==============================] - ETA: 0s - loss: 0.4335 - categorical_accuracy: 0.8697\n",
      "Epoch 00011: saving model to /home/models/model_init_2024-07-3113_16_24.444621/model-00011-0.43353-0.86967-0.73827-0.73000.h5\n",
      "133/133 [==============================] - 19s 147ms/step - loss: 0.4335 - categorical_accuracy: 0.8697 - val_loss: 0.7383 - val_categorical_accuracy: 0.7300 - lr: 4.0000e-05\n",
      "Epoch 12/35\n",
      "133/133 [==============================] - ETA: 0s - loss: 0.3237 - categorical_accuracy: 0.9123\n",
      "Epoch 00012: saving model to /home/models/model_init_2024-07-3113_16_24.444621/model-00012-0.32367-0.91228-0.77836-0.70000.h5\n",
      "133/133 [==============================] - 20s 151ms/step - loss: 0.3237 - categorical_accuracy: 0.9123 - val_loss: 0.7784 - val_categorical_accuracy: 0.7000 - lr: 4.0000e-05\n",
      "Epoch 13/35\n",
      "133/133 [==============================] - ETA: 0s - loss: 0.2431 - categorical_accuracy: 0.9599\n",
      "Epoch 00013: saving model to /home/models/model_init_2024-07-3113_16_24.444621/model-00013-0.24314-0.95990-0.68714-0.79000.h5\n",
      "133/133 [==============================] - 20s 149ms/step - loss: 0.2431 - categorical_accuracy: 0.9599 - val_loss: 0.6871 - val_categorical_accuracy: 0.7900 - lr: 4.0000e-05\n",
      "Epoch 14/35\n",
      "133/133 [==============================] - ETA: 0s - loss: 0.2054 - categorical_accuracy: 0.9499\n",
      "Epoch 00014: saving model to /home/models/model_init_2024-07-3113_16_24.444621/model-00014-0.20538-0.94987-0.66845-0.79000.h5\n",
      "133/133 [==============================] - 20s 151ms/step - loss: 0.2054 - categorical_accuracy: 0.9499 - val_loss: 0.6684 - val_categorical_accuracy: 0.7900 - lr: 2.0000e-05\n",
      "Epoch 15/35\n",
      "133/133 [==============================] - ETA: 0s - loss: 0.1648 - categorical_accuracy: 0.9749\n",
      "Epoch 00015: saving model to /home/models/model_init_2024-07-3113_16_24.444621/model-00015-0.16476-0.97494-0.64621-0.78000.h5\n",
      "133/133 [==============================] - 20s 148ms/step - loss: 0.1648 - categorical_accuracy: 0.9749 - val_loss: 0.6462 - val_categorical_accuracy: 0.7800 - lr: 2.0000e-05\n",
      "Epoch 16/35\n",
      "133/133 [==============================] - ETA: 0s - loss: 0.1529 - categorical_accuracy: 0.9649\n",
      "Epoch 00016: saving model to /home/models/model_init_2024-07-3113_16_24.444621/model-00016-0.15292-0.96491-0.74107-0.76000.h5\n",
      "133/133 [==============================] - 20s 152ms/step - loss: 0.1529 - categorical_accuracy: 0.9649 - val_loss: 0.7411 - val_categorical_accuracy: 0.7600 - lr: 2.0000e-05\n",
      "Epoch 17/35\n",
      "133/133 [==============================] - ETA: 0s - loss: 0.1189 - categorical_accuracy: 0.9799\n",
      "Epoch 00017: saving model to /home/models/model_init_2024-07-3113_16_24.444621/model-00017-0.11893-0.97995-0.67754-0.78000.h5\n",
      "133/133 [==============================] - 20s 154ms/step - loss: 0.1189 - categorical_accuracy: 0.9799 - val_loss: 0.6775 - val_categorical_accuracy: 0.7800 - lr: 2.0000e-05\n",
      "Epoch 18/35\n",
      "133/133 [==============================] - ETA: 0s - loss: 0.1142 - categorical_accuracy: 0.9825\n",
      "Epoch 00018: saving model to /home/models/model_init_2024-07-3113_16_24.444621/model-00018-0.11419-0.98246-0.74832-0.79000.h5\n",
      "133/133 [==============================] - 21s 156ms/step - loss: 0.1142 - categorical_accuracy: 0.9825 - val_loss: 0.7483 - val_categorical_accuracy: 0.7900 - lr: 2.0000e-05\n",
      "Epoch 19/35\n",
      "133/133 [==============================] - ETA: 0s - loss: 0.0908 - categorical_accuracy: 0.9850\n",
      "Epoch 00019: saving model to /home/models/model_init_2024-07-3113_16_24.444621/model-00019-0.09084-0.98496-0.66430-0.81000.h5\n",
      "133/133 [==============================] - 21s 155ms/step - loss: 0.0908 - categorical_accuracy: 0.9850 - val_loss: 0.6643 - val_categorical_accuracy: 0.8100 - lr: 1.0000e-05\n",
      "Epoch 20/35\n",
      "133/133 [==============================] - ETA: 0s - loss: 0.0879 - categorical_accuracy: 0.9875\n",
      "Epoch 00020: saving model to /home/models/model_init_2024-07-3113_16_24.444621/model-00020-0.08791-0.98747-0.65968-0.80000.h5\n",
      "133/133 [==============================] - 20s 153ms/step - loss: 0.0879 - categorical_accuracy: 0.9875 - val_loss: 0.6597 - val_categorical_accuracy: 0.8000 - lr: 1.0000e-05\n"
     ]
    }
   ],
   "source": [
    "callbacks = setup_callbacks()\n",
    "history = model.fit_generator(train_generator, steps_per_epoch=steps_per_epoch, epochs=num_epochs, verbose=1, \n",
    "                    callbacks=callbacks, validation_data=val_generator, \n",
    "                    validation_steps=validation_steps, class_weight=None, workers=1, initial_epoch=0)"
   ]
  },
  {
   "cell_type": "markdown",
   "metadata": {},
   "source": [
    "### Model 2: Graphical Analysis"
   ]
  },
  {
   "cell_type": "code",
   "execution_count": 22,
   "metadata": {},
   "outputs": [
    {
     "data": {
      "image/png": "[encoded data removed]",
      "text/plain": [
       "<Figure size 1080x432 with 2 Axes>"
      ]
     },
     "metadata": {
      "needs_background": "light"
     },
     "output_type": "display_data"
    }
   ],
   "source": [
    "acc = history.history['categorical_accuracy']\n",
    "val_acc = history.history['val_categorical_accuracy']\n",
    "\n",
    "loss = history.history['loss']\n",
    "val_loss = history.history['val_loss']\n",
    "\n",
    "epochs_range = range(len(history.history['loss']))\n",
    "\n",
    "plt.figure(figsize=(15, 6))\n",
    "plt.subplot(1, 2, 1)\n",
    "plt.plot(epochs_range, acc, label='Training Accuracy')\n",
    "plt.plot(epochs_range, val_acc, label='Validation Accuracy')\n",
    "plt.legend(loc='lower right')\n",
    "plt.title('Training and Validation Accuracy')\n",
    "\n",
    "plt.subplot(1, 2, 2)\n",
    "plt.plot(epochs_range, loss, label='Training Loss')\n",
    "plt.plot(epochs_range, val_loss, label='Validation Loss')\n",
    "plt.legend(loc='upper right')\n",
    "plt.title('Training and Validation Loss')\n",
    "plt.show()"
   ]
  },
  {
   "cell_type": "markdown",
   "metadata": {},
   "source": [
    "### Model 2: Final Results"
   ]
  },
  {
   "cell_type": "code",
   "execution_count": 23,
   "metadata": {},
   "outputs": [
    {
     "name": "stdout",
     "output_type": "stream",
     "text": [
      "Final Training Accuracy: 98.75%\n",
      "Final Validation Accuracy: 80.00%\n"
     ]
    }
   ],
   "source": [
    "# Display the final training and validation accuracy in percentages\n",
    "final_train_accuracy = acc[-1] * 100\n",
    "final_val_accuracy = val_acc[-1] * 100\n",
    "\n",
    "print(f\"Final Training Accuracy: {final_train_accuracy:.2f}%\")\n",
    "print(f\"Final Validation Accuracy: {final_val_accuracy:.2f}%\")"
   ]
  },
  {
   "cell_type": "markdown",
   "metadata": {},
   "source": [
    "### Model 3:\n",
    "## TimeDistributed MobileNetV2 + GlobalAveragePooling2D + GRU + Dense (2 Layers)"
   ]
  },
  {
   "cell_type": "code",
   "execution_count": 24,
   "metadata": {},
   "outputs": [
    {
     "name": "stdout",
     "output_type": "stream",
     "text": [
      "WARNING:tensorflow:`input_shape` is undefined or non-square, or `rows` is not in [96, 128, 160, 192, 224]. Weights for input shape (224, 224) will be loaded as the default.\n",
      "Model: \"time_dist_pretrained\"\n",
      "_________________________________________________________________\n",
      " Layer (type)                Output Shape              Param #   \n",
      "=================================================================\n",
      " input_4 (InputLayer)        [(None, 18, 160, 160, 3)  0         \n",
      "                             ]                                   \n",
      "                                                                 \n",
      " time_distributed_10 (TimeDi  (None, 18, 5, 5, 1280)   2257984   \n",
      " stributed)                                                      \n",
      "                                                                 \n",
      " time_distributed_11 (TimeDi  (None, 18, 1280)         0         \n",
      " stributed)                                                      \n",
      "                                                                 \n",
      " time_distributed_12 (TimeDi  (None, 18, 1280)         0         \n",
      " stributed)                                                      \n",
      "                                                                 \n",
      " gru_1 (GRU)                 (None, 128)               541440    \n",
      "                                                                 \n",
      " dense_6 (Dense)             (None, 512)               66048     \n",
      "                                                                 \n",
      " dropout_4 (Dropout)         (None, 512)               0         \n",
      "                                                                 \n",
      " dense_7 (Dense)             (None, 128)               65664     \n",
      "                                                                 \n",
      " dropout_5 (Dropout)         (None, 128)               0         \n",
      "                                                                 \n",
      " dense_8 (Dense)             (None, 5)                 645       \n",
      "                                                                 \n",
      "=================================================================\n",
      "Total params: 2,931,781\n",
      "Trainable params: 2,897,669\n",
      "Non-trainable params: 34,112\n",
      "_________________________________________________________________\n"
     ]
    }
   ],
   "source": [
    "#write your model here\n",
    "def build_model3(width=120, height=120, frames=30, channels=3):\n",
    "    \n",
    "    # Create the base pre-trained model\n",
    "    pretrained_model = MobileNetV2(weights='imagenet', include_top=False)\n",
    "    \n",
    "    input_layer = Input((frames, width, height, channels))\n",
    "\n",
    "    time_distributed = TimeDistributed(pretrained_model)(input_layer)\n",
    "\n",
    "    global_pool = TimeDistributed(GlobalAveragePooling2D())(time_distributed)\n",
    "    flatten_layer = TimeDistributed(Flatten())(global_pool)\n",
    "    \n",
    "    gru_layer = GRU(units=128)(flatten_layer)\n",
    "    \n",
    "    dense1 = Dense(units=512, activation=\"relu\")(gru_layer)\n",
    "    drop1 = Dropout(0.4)(dense1)\n",
    "    dense2 = Dense(units=128, activation=\"relu\")(drop1)\n",
    "    drop2 = Dropout(0.4)(dense2)\n",
    "    \n",
    "    output_layer = Dense(units=5, activation=\"softmax\")(drop2)\n",
    "\n",
    "    # Define the model\n",
    "    model = Model(input_layer, output_layer, name=\"time_dist_pretrained\")\n",
    "    return model\n",
    "\n",
    "# Define the grayscale and frames variables\n",
    "grayscale = False\n",
    "frames = one_batch[0].shape[1]\n",
    "channels = 1 if grayscale else 3\n",
    "\n",
    "# Instantiate the model using the modified function\n",
    "model = build_model3(width=160, height=160, frames=frames, channels=channels)\n",
    "model.summary()"
   ]
  },
  {
   "cell_type": "markdown",
   "metadata": {},
   "source": [
    "Now that you have written the model, the next step is to `compile` the model. When you print the `summary` of the model, you'll see the total number of parameters you have to train."
   ]
  },
  {
   "cell_type": "markdown",
   "metadata": {},
   "source": [
    "### Optimizer Function"
   ]
  },
  {
   "cell_type": "code",
   "execution_count": 25,
   "metadata": {
    "scrolled": true
   },
   "outputs": [],
   "source": [
    "optimiser = keras.optimizers.Adam(learning_rate=4e-5) #write your optimizer\n",
    "model.compile(optimizer=optimiser, loss='categorical_crossentropy', metrics=['categorical_accuracy'])"
   ]
  },
  {
   "cell_type": "markdown",
   "metadata": {},
   "source": [
    "Let us now fit the model. This will start training the model and with the help of the checkpoints, you'll be able to save the model at the end of each epoch."
   ]
  },
  {
   "cell_type": "markdown",
   "metadata": {},
   "source": [
    "### Model 3: Training"
   ]
  },
  {
   "cell_type": "code",
   "execution_count": 26,
   "metadata": {},
   "outputs": [
    {
     "name": "stdout",
     "output_type": "stream",
     "text": [
      "WARNING:tensorflow:`period` argument is deprecated. Please use `save_freq` to specify the frequency in number of batches seen.\n",
      "Epoch 1/35\n",
      "133/133 [==============================] - ETA: 0s - loss: 1.5906 - categorical_accuracy: 0.2857\n",
      "Epoch 00001: saving model to /home/models/model_init_2024-07-3113_23_08.858999/model-00001-1.59058-0.28571-1.54680-0.27000.h5\n",
      "133/133 [==============================] - 33s 198ms/step - loss: 1.5906 - categorical_accuracy: 0.2857 - val_loss: 1.5468 - val_categorical_accuracy: 0.2700 - lr: 4.0000e-05\n",
      "Epoch 2/35\n",
      "133/133 [==============================] - ETA: 0s - loss: 1.5154 - categorical_accuracy: 0.3609\n",
      "Epoch 00002: saving model to /home/models/model_init_2024-07-3113_23_08.858999/model-00002-1.51539-0.36090-1.36028-0.41000.h5\n",
      "133/133 [==============================] - 24s 180ms/step - loss: 1.5154 - categorical_accuracy: 0.3609 - val_loss: 1.3603 - val_categorical_accuracy: 0.4100 - lr: 4.0000e-05\n",
      "Epoch 3/35\n",
      "133/133 [==============================] - ETA: 0s - loss: 1.1902 - categorical_accuracy: 0.5865\n",
      "Epoch 00003: saving model to /home/models/model_init_2024-07-3113_23_08.858999/model-00003-1.19025-0.58647-1.04863-0.68000.h5\n",
      "133/133 [==============================] - 24s 180ms/step - loss: 1.1902 - categorical_accuracy: 0.5865 - val_loss: 1.0486 - val_categorical_accuracy: 0.6800 - lr: 4.0000e-05\n",
      "Epoch 4/35\n",
      "133/133 [==============================] - ETA: 0s - loss: 0.9405 - categorical_accuracy: 0.6917\n",
      "Epoch 00004: saving model to /home/models/model_init_2024-07-3113_23_08.858999/model-00004-0.94049-0.69173-0.68857-0.79000.h5\n",
      "133/133 [==============================] - 24s 183ms/step - loss: 0.9405 - categorical_accuracy: 0.6917 - val_loss: 0.6886 - val_categorical_accuracy: 0.7900 - lr: 4.0000e-05\n",
      "Epoch 5/35\n",
      "133/133 [==============================] - ETA: 0s - loss: 0.6016 - categorical_accuracy: 0.8496\n",
      "Epoch 00005: saving model to /home/models/model_init_2024-07-3113_23_08.858999/model-00005-0.60163-0.84962-0.57761-0.77000.h5\n",
      "133/133 [==============================] - 25s 187ms/step - loss: 0.6016 - categorical_accuracy: 0.8496 - val_loss: 0.5776 - val_categorical_accuracy: 0.7700 - lr: 4.0000e-05\n",
      "Epoch 6/35\n",
      "133/133 [==============================] - ETA: 0s - loss: 0.4368 - categorical_accuracy: 0.8822\n",
      "Epoch 00006: saving model to /home/models/model_init_2024-07-3113_23_08.858999/model-00006-0.43682-0.88221-0.41858-0.88000.h5\n",
      "133/133 [==============================] - 25s 185ms/step - loss: 0.4368 - categorical_accuracy: 0.8822 - val_loss: 0.4186 - val_categorical_accuracy: 0.8800 - lr: 4.0000e-05\n",
      "Epoch 7/35\n",
      "133/133 [==============================] - ETA: 0s - loss: 0.2718 - categorical_accuracy: 0.9248\n",
      "Epoch 00007: saving model to /home/models/model_init_2024-07-3113_23_08.858999/model-00007-0.27175-0.92481-0.38335-0.88000.h5\n",
      "133/133 [==============================] - 24s 179ms/step - loss: 0.2718 - categorical_accuracy: 0.9248 - val_loss: 0.3833 - val_categorical_accuracy: 0.8800 - lr: 4.0000e-05\n",
      "Epoch 8/35\n",
      "133/133 [==============================] - ETA: 0s - loss: 0.2291 - categorical_accuracy: 0.9248\n",
      "Epoch 00008: saving model to /home/models/model_init_2024-07-3113_23_08.858999/model-00008-0.22911-0.92481-0.24053-0.91000.h5\n",
      "133/133 [==============================] - 25s 191ms/step - loss: 0.2291 - categorical_accuracy: 0.9248 - val_loss: 0.2405 - val_categorical_accuracy: 0.9100 - lr: 4.0000e-05\n",
      "Epoch 9/35\n",
      "133/133 [==============================] - ETA: 0s - loss: 0.2183 - categorical_accuracy: 0.9449\n",
      "Epoch 00009: saving model to /home/models/model_init_2024-07-3113_23_08.858999/model-00009-0.21835-0.94486-0.36486-0.87000.h5\n",
      "133/133 [==============================] - 24s 177ms/step - loss: 0.2183 - categorical_accuracy: 0.9449 - val_loss: 0.3649 - val_categorical_accuracy: 0.8700 - lr: 4.0000e-05\n",
      "Epoch 10/35\n",
      "133/133 [==============================] - ETA: 0s - loss: 0.1120 - categorical_accuracy: 0.9724\n",
      "Epoch 00010: saving model to /home/models/model_init_2024-07-3113_23_08.858999/model-00010-0.11197-0.97243-0.28656-0.89000.h5\n",
      "133/133 [==============================] - 25s 188ms/step - loss: 0.1120 - categorical_accuracy: 0.9724 - val_loss: 0.2866 - val_categorical_accuracy: 0.8900 - lr: 4.0000e-05\n",
      "Epoch 11/35\n",
      "133/133 [==============================] - ETA: 0s - loss: 0.0920 - categorical_accuracy: 0.9799\n",
      "Epoch 00011: saving model to /home/models/model_init_2024-07-3113_23_08.858999/model-00011-0.09196-0.97995-0.20692-0.96000.h5\n",
      "133/133 [==============================] - 24s 184ms/step - loss: 0.0920 - categorical_accuracy: 0.9799 - val_loss: 0.2069 - val_categorical_accuracy: 0.9600 - lr: 4.0000e-05\n",
      "Epoch 12/35\n",
      "133/133 [==============================] - ETA: 0s - loss: 0.0566 - categorical_accuracy: 0.9925\n",
      "Epoch 00012: saving model to /home/models/model_init_2024-07-3113_23_08.858999/model-00012-0.05658-0.99248-0.29852-0.90000.h5\n",
      "133/133 [==============================] - 23s 175ms/step - loss: 0.0566 - categorical_accuracy: 0.9925 - val_loss: 0.2985 - val_categorical_accuracy: 0.9000 - lr: 4.0000e-05\n",
      "Epoch 13/35\n",
      "133/133 [==============================] - ETA: 0s - loss: 0.0814 - categorical_accuracy: 0.9825\n",
      "Epoch 00013: saving model to /home/models/model_init_2024-07-3113_23_08.858999/model-00013-0.08138-0.98246-0.36348-0.92000.h5\n",
      "133/133 [==============================] - 24s 184ms/step - loss: 0.0814 - categorical_accuracy: 0.9825 - val_loss: 0.3635 - val_categorical_accuracy: 0.9200 - lr: 4.0000e-05\n",
      "Epoch 14/35\n",
      "133/133 [==============================] - ETA: 0s - loss: 0.0684 - categorical_accuracy: 0.9850\n",
      "Epoch 00014: saving model to /home/models/model_init_2024-07-3113_23_08.858999/model-00014-0.06843-0.98496-0.19116-0.93000.h5\n",
      "133/133 [==============================] - 25s 185ms/step - loss: 0.0684 - categorical_accuracy: 0.9850 - val_loss: 0.1912 - val_categorical_accuracy: 0.9300 - lr: 4.0000e-05\n",
      "Epoch 15/35\n",
      "133/133 [==============================] - ETA: 0s - loss: 0.0509 - categorical_accuracy: 0.9850\n",
      "Epoch 00015: saving model to /home/models/model_init_2024-07-3113_23_08.858999/model-00015-0.05092-0.98496-0.39768-0.90000.h5\n",
      "133/133 [==============================] - 25s 186ms/step - loss: 0.0509 - categorical_accuracy: 0.9850 - val_loss: 0.3977 - val_categorical_accuracy: 0.9000 - lr: 4.0000e-05\n",
      "Epoch 16/35\n",
      "133/133 [==============================] - ETA: 0s - loss: 0.0680 - categorical_accuracy: 0.9799\n",
      "Epoch 00016: saving model to /home/models/model_init_2024-07-3113_23_08.858999/model-00016-0.06804-0.97995-0.22415-0.93000.h5\n",
      "133/133 [==============================] - 24s 180ms/step - loss: 0.0680 - categorical_accuracy: 0.9799 - val_loss: 0.2242 - val_categorical_accuracy: 0.9300 - lr: 4.0000e-05\n",
      "Epoch 17/35\n",
      "133/133 [==============================] - ETA: 0s - loss: 0.0469 - categorical_accuracy: 0.9875\n",
      "Epoch 00017: saving model to /home/models/model_init_2024-07-3113_23_08.858999/model-00017-0.04685-0.98747-0.26247-0.95000.h5\n",
      "133/133 [==============================] - 24s 182ms/step - loss: 0.0469 - categorical_accuracy: 0.9875 - val_loss: 0.2625 - val_categorical_accuracy: 0.9500 - lr: 4.0000e-05\n",
      "Epoch 18/35\n",
      "133/133 [==============================] - ETA: 0s - loss: 0.0431 - categorical_accuracy: 0.9900\n",
      "Epoch 00018: saving model to /home/models/model_init_2024-07-3113_23_08.858999/model-00018-0.04307-0.98997-0.29408-0.94000.h5\n",
      "133/133 [==============================] - 25s 185ms/step - loss: 0.0431 - categorical_accuracy: 0.9900 - val_loss: 0.2941 - val_categorical_accuracy: 0.9400 - lr: 2.0000e-05\n",
      "Epoch 19/35\n",
      "133/133 [==============================] - ETA: 0s - loss: 0.0365 - categorical_accuracy: 0.9900\n",
      "Epoch 00019: saving model to /home/models/model_init_2024-07-3113_23_08.858999/model-00019-0.03649-0.98997-0.21615-0.94000.h5\n",
      "133/133 [==============================] - 24s 184ms/step - loss: 0.0365 - categorical_accuracy: 0.9900 - val_loss: 0.2162 - val_categorical_accuracy: 0.9400 - lr: 2.0000e-05\n"
     ]
    }
   ],
   "source": [
    "callbacks = setup_callbacks()\n",
    "history = model.fit_generator(train_generator, steps_per_epoch=steps_per_epoch, epochs=num_epochs, verbose=1, \n",
    "                    callbacks=callbacks, validation_data=val_generator, \n",
    "                    validation_steps=validation_steps, class_weight=None, workers=1, initial_epoch=0)"
   ]
  },
  {
   "cell_type": "markdown",
   "metadata": {},
   "source": [
    "### Model 3: Graphical Analysis"
   ]
  },
  {
   "cell_type": "code",
   "execution_count": 27,
   "metadata": {},
   "outputs": [
    {
     "data": {
      "image/png": "[encoded data removed]",
      "text/plain": [
       "<Figure size 1080x432 with 2 Axes>"
      ]
     },
     "metadata": {
      "needs_background": "light"
     },
     "output_type": "display_data"
    }
   ],
   "source": [
    "acc = history.history['categorical_accuracy']\n",
    "val_acc = history.history['val_categorical_accuracy']\n",
    "\n",
    "loss = history.history['loss']\n",
    "val_loss = history.history['val_loss']\n",
    "\n",
    "epochs_range = range(len(history.history['loss']))\n",
    "\n",
    "plt.figure(figsize=(15, 6))\n",
    "plt.subplot(1, 2, 1)\n",
    "plt.plot(epochs_range, acc, label='Training Accuracy')\n",
    "plt.plot(epochs_range, val_acc, label='Validation Accuracy')\n",
    "plt.legend(loc='lower right')\n",
    "plt.title('Training and Validation Accuracy')\n",
    "\n",
    "plt.subplot(1, 2, 2)\n",
    "plt.plot(epochs_range, loss, label='Training Loss')\n",
    "plt.plot(epochs_range, val_loss, label='Validation Loss')\n",
    "plt.legend(loc='upper right')\n",
    "plt.title('Training and Validation Loss')\n",
    "plt.show()"
   ]
  },
  {
   "cell_type": "markdown",
   "metadata": {},
   "source": [
    "### Model 3: Final Results"
   ]
  },
  {
   "cell_type": "code",
   "execution_count": 28,
   "metadata": {},
   "outputs": [
    {
     "name": "stdout",
     "output_type": "stream",
     "text": [
      "Final Training Accuracy: 99.00%\n",
      "Final Validation Accuracy: 94.00%\n"
     ]
    }
   ],
   "source": [
    "# Display the final training and validation accuracy in percentages\n",
    "final_train_accuracy = acc[-1] * 100\n",
    "final_val_accuracy = val_acc[-1] * 100\n",
    "\n",
    "print(f\"Final Training Accuracy: {final_train_accuracy:.2f}%\")\n",
    "print(f\"Final Validation Accuracy: {final_val_accuracy:.2f}%\")"
   ]
  },
  {
   "cell_type": "code",
   "execution_count": null,
   "metadata": {},
   "outputs": [],
   "source": []
  }
 ],
 "metadata": {
  "kernelspec": {
   "display_name": "Python 3 (ipykernel)",
   "language": "python",
   "name": "python3"
  },
  "language_info": {
   "codemirror_mode": {
    "name": "ipython",
    "version": 3
   },
   "file_extension": ".py",
   "mimetype": "text/x-python",
   "name": "python",
   "nbconvert_exporter": "python",
   "pygments_lexer": "ipython3",
   "version": "3.11.5"
  }
 },
 "nbformat": 4,
 "nbformat_minor": 4
}
